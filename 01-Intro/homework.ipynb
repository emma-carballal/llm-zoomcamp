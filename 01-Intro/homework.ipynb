{
 "cells": [
  {
   "cell_type": "code",
   "execution_count": 1,
   "id": "bb5b4a19-502d-48d7-971e-47dc5265d260",
   "metadata": {},
   "outputs": [],
   "source": [
    "import openai\n",
    "from openai import OpenAI"
   ]
  },
  {
   "cell_type": "code",
   "execution_count": 2,
   "id": "79724de2-7e6e-4ce5-a8e4-23418b16f9e0",
   "metadata": {},
   "outputs": [],
   "source": [
    "client = OpenAI()"
   ]
  },
  {
   "cell_type": "code",
   "execution_count": 3,
   "id": "e6d71424-0fef-4f85-b79e-73e39506045a",
   "metadata": {},
   "outputs": [],
   "source": [
    "response = client.chat.completions.create(\n",
    "    model = 'gpt-4o',\n",
    "    messages = [{\"role\" : \"user\", \"content\": \"is it too late to join the course?\"}]\n",
    ")"
   ]
  },
  {
   "cell_type": "code",
   "execution_count": 4,
   "id": "2209c7c7-00bb-4fe0-9c0a-3ab9f612ceb9",
   "metadata": {},
   "outputs": [
    {
     "data": {
      "text/plain": [
       "ChatCompletion(id='chatcmpl-9ZwnxgGd64G5E30oIOU7gH7ZTi2y5', choices=[Choice(finish_reason='stop', index=0, logprobs=None, message=ChatCompletionMessage(content=\"Whether it's too late to join a course depends on several factors:\\n\\n1. **Enrollment Deadlines:** Each course or institution usually has specific enrollment deadlines.\\n2. **Course Start Date:** If the course has already started, some institutions may still allow late registration within a certain period.\\n3. **Availability:** There might be limited spots in the course, and it might be full.\\n4. **Instructor Policies:** Some instructors or programs may accept late enrollees, especially if the student can catch up on missed material.\\n\\nYou should check with the course provider or institution directly to get specific information about whether you can still join. They will provide details about deadlines, availability, and any potential consequences or requirements for late enrollment.\", role='assistant', function_call=None, tool_calls=None))], created=1718354553, model='gpt-4o-2024-05-13', object='chat.completion', system_fingerprint='fp_319be4768e', usage=CompletionUsage(completion_tokens=144, prompt_tokens=16, total_tokens=160))"
      ]
     },
     "execution_count": 4,
     "metadata": {},
     "output_type": "execute_result"
    }
   ],
   "source": [
    "response"
   ]
  },
  {
   "cell_type": "code",
   "execution_count": 5,
   "id": "c351b9e5-2458-4d11-bd80-8fbaa9ad9182",
   "metadata": {},
   "outputs": [
    {
     "data": {
      "text/plain": [
       "\"Whether it's too late to join a course depends on several factors:\\n\\n1. **Enrollment Deadlines:** Each course or institution usually has specific enrollment deadlines.\\n2. **Course Start Date:** If the course has already started, some institutions may still allow late registration within a certain period.\\n3. **Availability:** There might be limited spots in the course, and it might be full.\\n4. **Instructor Policies:** Some instructors or programs may accept late enrollees, especially if the student can catch up on missed material.\\n\\nYou should check with the course provider or institution directly to get specific information about whether you can still join. They will provide details about deadlines, availability, and any potential consequences or requirements for late enrollment.\""
      ]
     },
     "execution_count": 5,
     "metadata": {},
     "output_type": "execute_result"
    }
   ],
   "source": [
    "response.choices[0].message.content"
   ]
  },
  {
   "cell_type": "code",
   "execution_count": null,
   "id": "adc80401-ca1c-48c0-9cc1-b6bd4707a616",
   "metadata": {},
   "outputs": [],
   "source": []
  }
 ],
 "metadata": {
  "kernelspec": {
   "display_name": "Python 3 (ipykernel)",
   "language": "python",
   "name": "python3"
  },
  "language_info": {
   "codemirror_mode": {
    "name": "ipython",
    "version": 3
   },
   "file_extension": ".py",
   "mimetype": "text/x-python",
   "name": "python",
   "nbconvert_exporter": "python",
   "pygments_lexer": "ipython3",
   "version": "3.10.13"
  }
 },
 "nbformat": 4,
 "nbformat_minor": 5
}
